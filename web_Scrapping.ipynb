{
 "cells": [
  {
   "cell_type": "code",
   "execution_count": 13,
   "id": "89fcacaa",
   "metadata": {},
   "outputs": [
    {
     "name": "stdout",
     "output_type": "stream",
     "text": [
      "C:\\Users\\Ashvini Alashetty\\Anaconda3;C:\\Users\\Ashvini Alashetty\\Anaconda3\\Library\\mingw-w64\\bin;C:\\Users\\Ashvini Alashetty\\Anaconda3\\Library\\usr\\bin;C:\\Users\\Ashvini Alashetty\\Anaconda3\\Library\\bin;C:\\Users\\Ashvini Alashetty\\Anaconda3\\Scripts;C:\\Program Files (x86)\\Intel\\Intel(R) Management Engine Components\\iCLS\\;C:\\Program Files\\Intel\\Intel(R) Management Engine Components\\iCLS\\;C:\\WINDOWS\\system32;C:\\WINDOWS;C:\\WINDOWS\\System32\\Wbem;C:\\WINDOWS\\System32\\WindowsPowerShell\\v1.0\\;C:\\WINDOWS\\System32\\OpenSSH\\;C:\\Program Files (x86)\\Intel\\Intel(R) Management Engine Components\\DAL;C:\\Program Files\\Intel\\Intel(R) Management Engine Components\\DAL;C:\\Program Files\\MySQL\\MySQL Shell 8.0\\bin\\;C:\\Users\\Ashvini Alashetty\\Anaconda3;C:\\Users\\Ashvini Alashetty\\Anaconda3\\Library\\mingw-w64\\bin;C:\\Users\\Ashvini Alashetty\\Anaconda3\\Library\\usr\\bin;C:\\Users\\Ashvini Alashetty\\Anaconda3\\Library\\bin;C:\\Users\\Ashvini Alashetty\\Anaconda3\\Scripts;C:\\Users\\Ashvini Alashetty\\AppData\\Local\\Microsoft\\WindowsApps;C:\\Users\\Ashvini Alashetty\\AppData\\Local\\Pandoc\\\n"
     ]
    }
   ],
   "source": [
    "import os\n",
    "print(os.environ['PATH'])"
   ]
  },
  {
   "cell_type": "code",
   "execution_count": 1,
   "id": "63f34991",
   "metadata": {},
   "outputs": [],
   "source": [
    "from time import sleep\n",
    "from random import random\n",
    "import pandas as pd\n",
    "import requests\n",
    "from tqdm.notebook import tqdm\n",
    "from bs4 import BeautifulSoup\n",
    "from urllib.parse import urljoin\n",
    "import urllib.parse as urlparse\n",
    "from urllib.parse import parse_qs"
   ]
  },
  {
   "cell_type": "code",
   "execution_count": 2,
   "id": "ba5d0e76",
   "metadata": {},
   "outputs": [],
   "source": [
    "# Constants\n",
    "BASE_URL = 'https://www.flipkart.com/'\n",
    "SEARCH_QUERY = \"headphones\"\n",
    "TOP_N_PRODUCTS = 10\n",
    "REVIEW_PAGES_TO_SCRAPE_FROM_PER_PRODUCT = 100 #10 Reviews exist per page"
   ]
  },
  {
   "cell_type": "code",
   "execution_count": 3,
   "id": "1bf690fa",
   "metadata": {},
   "outputs": [
    {
     "name": "stdout",
     "output_type": "stream",
     "text": [
      "<!DOCTYPE html>\n",
      "<html lang=\"en\">\n",
      " <head>\n",
      "  <link href=\"https://rukminim1.flixcart.com\" rel=\"preconnect\"/>\n",
      "  <link href=\"//static-assets-web.flixcart.com/fk-p-linchpin-web/fk-cp-zion/css/app_modules.chunk.905c37.css\" rel=\"stylesheet\"/>\n",
      "  <link href=\"//static-assets-web.flixcart.com/fk-p-linchpin-web/fk-cp-zion/css/app.chunk.104e9a.css\" rel=\"stylesheet\"/>\n",
      "  <meta content=\"text/html; charset=utf-8\" http-equiv=\"Content-type\"/>\n",
      "  <meta content=\"IE=Edge\" http-equiv=\"X-UA-Compatible\"/>\n",
      "  <meta content=\n"
     ]
    }
   ],
   "source": [
    "SAMPLE_URL = \"https://www.flipkart.com/boat-rockerz-400-bluetooth-headset/product-reviews/itm14d0416b87d55?pid=ACCEJZXYKSG2T9GS&lid=LSTACCEJZXYKSG2T9GSVY4ZIC&marketplace=FLIPKART&page=1\"\n",
    "r = requests.get(SAMPLE_URL)    \n",
    "soup = BeautifulSoup(r.content, 'html.parser') \n",
    "print(soup.prettify()[:500])"
   ]
  },
  {
   "cell_type": "code",
   "execution_count": 4,
   "id": "70fde50c",
   "metadata": {},
   "outputs": [
    {
     "name": "stdout",
     "output_type": "stream",
     "text": [
      "Count of rows(reviews):10\n",
      "\n",
      "\n",
      "\n",
      "rating:5 \n",
      "\n",
      "\n",
      "summary:Worth every penny \n",
      "\n",
      "\n",
      "review:It was nice produt. I like it's design a lot.  It's easy to carry. And.   Looked stylish. \n",
      "\n",
      "\n",
      "location:Kadirur \n",
      "\n",
      "\n",
      "date:Jan, 2020 \n",
      "\n",
      "\n",
      "upvotes:3832 \n",
      "\n",
      "\n",
      "downvotes:289 \n",
      "\n",
      "\n"
     ]
    }
   ],
   "source": [
    "rows = soup.find_all('div',attrs={'class':'col _2wzgFH K0kLPL'})\n",
    "print(f\"Count of rows(reviews):{len(rows)}\\n\\n\\n\")\n",
    "# iteration over all blocks\n",
    "for row in rows:\n",
    "    # Print a sample row(review html block)\n",
    "    # print(f\"row:\\n{row} \\n\\n\")\n",
    "    \n",
    "    # finding all rows within the block\n",
    "    sub_row = row.find_all('div',attrs={'class':'row'})\n",
    "        \n",
    "    # extracting text from 1st and 2nd row\n",
    "    rating = sub_row[0].find('div').text\n",
    "    print(f\"rating:{rating} \\n\\n\")\n",
    "    \n",
    "    summary = sub_row[0].find('p').text\n",
    "    print(f\"summary:{summary} \\n\\n\")\n",
    "    \n",
    "    review = sub_row[1].find_all('div')[2].text\n",
    "    print(f\"review:{review} \\n\\n\")\n",
    "    \n",
    "    location = sub_row[3].find('p',attrs={'class':'_2mcZGG'}).find_all('span')[1].text\n",
    "    location = \"\".join(location.split(\",\")[1:]).strip()\n",
    "    print(f\"location:{location} \\n\\n\")\n",
    "    \n",
    "    date = sub_row[3].find_all('p',attrs={'class':'_2sc7ZR'})[1].text\n",
    "    print(f\"date:{date} \\n\\n\")\n",
    "    \n",
    "    \n",
    "    sub_row_2 = row.find_all('div',attrs={'class':'_1e9_Zu'})[0].find_all('span',attrs={'class':'_3c3Px5'})\n",
    "    \n",
    "    upvotes = sub_row_2[0].text\n",
    "    print(f\"upvotes:{upvotes} \\n\\n\")\n",
    "    \n",
    "    downvotes = sub_row_2[1].text\n",
    "    print(f\"downvotes:{downvotes} \\n\\n\")\n",
    "    \n",
    "    break"
   ]
  },
  {
   "cell_type": "code",
   "execution_count": 5,
   "id": "e9694c0d",
   "metadata": {},
   "outputs": [],
   "source": [
    "## Search based Product URL Discovery\n",
    "def get_popular_product_s_titles_and_urls(search_query : str, popular_products_count_limit : int = None):\n",
    "    \n",
    "    search_url = f\"{BASE_URL}search?q={search_query}&sort=popularity\"\n",
    "    search_response = requests.get(search_url)\n",
    "    \n",
    "    # Pause the loop for 1-3 seconds to simulate natural setting not overwhelm the server with back to back requests without any pause\n",
    "    # sleep(randint(1,3))\n",
    "    \n",
    "    search_html_soup = BeautifulSoup(search_response.content, 'html.parser')\n",
    "    search_results_products = search_html_soup.find_all('div',attrs={'class':'_4ddWXP'})\n",
    "    \n",
    "    product_titles, product_urls = [],[]\n",
    "    \n",
    "    product_count = 0\n",
    "    \n",
    "    for product in tqdm(search_results_products, desc=\"Search Results Iteration\", position=0, leave=True):\n",
    "        \n",
    "        ad_mention_subrow = product.find(\"div\", attrs={\"class\":\"_4HTuuX\"})\n",
    "        \n",
    "        is_ad = not not ad_mention_subrow\n",
    "        \n",
    "        if not is_ad:\n",
    "            \n",
    "            title_mention_subrow = product.find(\"a\", attrs={\"class\":\"s1Q9rs\"})\n",
    "            \n",
    "            product_title = title_mention_subrow[\"title\"]\n",
    "            product_relative_url = title_mention_subrow[\"href\"]\n",
    "            product_url = urljoin(BASE_URL,product_relative_url)\n",
    "            \n",
    "            parsed_url = urlparse.urlparse(product_url)\n",
    "            parsed_url_path = parsed_url.path\n",
    "            parsed_url_path_split = parsed_url_path.split(\"/\")\n",
    "            parsed_url_path_split[2] = \"product-reviews\"\n",
    "            parsed_url_path_modified = \"/\".join(parsed_url_path_split)\n",
    "            parsed_url_modified = parsed_url._replace(path=parsed_url_path_modified)\n",
    "            product_url = parsed_url_modified.geturl()\n",
    "            \n",
    "            product_titles.append(product_title)\n",
    "            product_urls.append(product_url)\n",
    "            \n",
    "            product_count += 1\n",
    "            \n",
    "            if popular_products_count_limit and (product_count >= popular_products_count_limit):\n",
    "                break\n",
    "                \n",
    "    return product_titles, product_urls"
   ]
  },
  {
   "cell_type": "code",
   "execution_count": 6,
   "id": "0da1cc45",
   "metadata": {},
   "outputs": [
    {
     "data": {
      "application/vnd.jupyter.widget-view+json": {
       "model_id": "43c31c9b4cff4d37a8d86e16946ff6ba",
       "version_major": 2,
       "version_minor": 0
      },
      "text/plain": [
       "Search Results Iteration:   0%|          | 0/40 [00:00<?, ?it/s]"
      ]
     },
     "metadata": {},
     "output_type": "display_data"
    }
   ],
   "source": [
    "## Collect Product Page URLs for Top 10 Popular Products for 'Headphones' search query\n",
    "## Specify Search Query and Popular Product Count Limit(optional)\n",
    "product_titles, product_urls = get_popular_product_s_titles_and_urls(SEARCH_QUERY, TOP_N_PRODUCTS);"
   ]
  },
  {
   "cell_type": "code",
   "execution_count": 7,
   "id": "cc866a7a",
   "metadata": {},
   "outputs": [
    {
     "name": "stdout",
     "output_type": "stream",
     "text": [
      "+------------+--------------------+---------+-----------------------+\n",
      "| # Products | # Reviews Per Page | # Pages | # Total Reviews Count |\n",
      "+------------+--------------------+---------+-----------------------+\n",
      "|     10     |         10         |   100   |         10000         |\n",
      "+------------+--------------------+---------+-----------------------+\n"
     ]
    }
   ],
   "source": [
    "## Iterating over multiple products and multiple pages\n",
    "from prettytable import PrettyTable\n",
    "x = PrettyTable()\n",
    "x.field_names = [\"# Products\", \"# Reviews Per Page\", \"# Pages\", \"# Total Reviews Count\"]\n",
    "x.add_row([len(product_urls), 10, REVIEW_PAGES_TO_SCRAPE_FROM_PER_PRODUCT, len(product_urls)*10*REVIEW_PAGES_TO_SCRAPE_FROM_PER_PRODUCT])\n",
    "print(x)"
   ]
  },
  {
   "cell_type": "code",
   "execution_count": 9,
   "id": "f6836be4",
   "metadata": {},
   "outputs": [
    {
     "data": {
      "application/vnd.jupyter.widget-view+json": {
       "model_id": "c500ab3bba8541b098e231d6b1721ce6",
       "version_major": 2,
       "version_minor": 0
      },
      "text/plain": [
       "products:   0%|          | 0/10 [00:00<?, ?it/s]"
      ]
     },
     "metadata": {},
     "output_type": "display_data"
    },
    {
     "data": {
      "application/vnd.jupyter.widget-view+json": {
       "model_id": "",
       "version_major": 2,
       "version_minor": 0
      },
      "text/plain": [
       "review pages:   0%|          | 0/100 [00:00<?, ?it/s]"
      ]
     },
     "metadata": {},
     "output_type": "display_data"
    },
    {
     "data": {
      "application/vnd.jupyter.widget-view+json": {
       "model_id": "",
       "version_major": 2,
       "version_minor": 0
      },
      "text/plain": [
       "review pages:   0%|          | 0/100 [00:00<?, ?it/s]"
      ]
     },
     "metadata": {},
     "output_type": "display_data"
    },
    {
     "data": {
      "application/vnd.jupyter.widget-view+json": {
       "model_id": "",
       "version_major": 2,
       "version_minor": 0
      },
      "text/plain": [
       "review pages:   0%|          | 0/100 [00:00<?, ?it/s]"
      ]
     },
     "metadata": {},
     "output_type": "display_data"
    },
    {
     "data": {
      "application/vnd.jupyter.widget-view+json": {
       "model_id": "",
       "version_major": 2,
       "version_minor": 0
      },
      "text/plain": [
       "review pages:   0%|          | 0/100 [00:00<?, ?it/s]"
      ]
     },
     "metadata": {},
     "output_type": "display_data"
    },
    {
     "data": {
      "application/vnd.jupyter.widget-view+json": {
       "model_id": "",
       "version_major": 2,
       "version_minor": 0
      },
      "text/plain": [
       "review pages:   0%|          | 0/100 [00:00<?, ?it/s]"
      ]
     },
     "metadata": {},
     "output_type": "display_data"
    },
    {
     "data": {
      "application/vnd.jupyter.widget-view+json": {
       "model_id": "",
       "version_major": 2,
       "version_minor": 0
      },
      "text/plain": [
       "review pages:   0%|          | 0/100 [00:00<?, ?it/s]"
      ]
     },
     "metadata": {},
     "output_type": "display_data"
    },
    {
     "data": {
      "application/vnd.jupyter.widget-view+json": {
       "model_id": "",
       "version_major": 2,
       "version_minor": 0
      },
      "text/plain": [
       "review pages:   0%|          | 0/100 [00:00<?, ?it/s]"
      ]
     },
     "metadata": {},
     "output_type": "display_data"
    },
    {
     "data": {
      "application/vnd.jupyter.widget-view+json": {
       "model_id": "",
       "version_major": 2,
       "version_minor": 0
      },
      "text/plain": [
       "review pages:   0%|          | 0/100 [00:00<?, ?it/s]"
      ]
     },
     "metadata": {},
     "output_type": "display_data"
    },
    {
     "data": {
      "application/vnd.jupyter.widget-view+json": {
       "model_id": "",
       "version_major": 2,
       "version_minor": 0
      },
      "text/plain": [
       "review pages:   0%|          | 0/100 [00:00<?, ?it/s]"
      ]
     },
     "metadata": {},
     "output_type": "display_data"
    },
    {
     "data": {
      "application/vnd.jupyter.widget-view+json": {
       "model_id": "",
       "version_major": 2,
       "version_minor": 0
      },
      "text/plain": [
       "review pages:   0%|          | 0/100 [00:00<?, ?it/s]"
      ]
     },
     "metadata": {},
     "output_type": "display_data"
    }
   ],
   "source": [
    "dataset = []\n",
    "\n",
    "for idx, url in enumerate(tqdm(product_urls, desc='products')):\n",
    "    # iterating over review pages\n",
    "    for i in tqdm(range(1,REVIEW_PAGES_TO_SCRAPE_FROM_PER_PRODUCT+1), desc=\"review pages\", position=0, leave=False):\n",
    "        parsed = urlparse.urlparse(url)\n",
    "        pid = parse_qs(parsed.query)['pid'][0]\n",
    "        URL = f\"{url}&page={i}\"\n",
    "        \n",
    "        r = requests.get(URL)\n",
    "        \n",
    "        # Pause the loop for 0-1 seconds to simulate natural setting not overwhelm the server with back to back requests without any pause\n",
    "        sleep(random())\n",
    "        soup = BeautifulSoup(r.content, 'html.parser') \n",
    "\n",
    "        rows = soup.find_all('div',attrs={'class':'col _2wzgFH K0kLPL'})\n",
    "\n",
    "        for row in rows:\n",
    "\n",
    "            # finding all rows within the block\n",
    "            sub_row = row.find_all('div',attrs={'class':'row'})\n",
    "\n",
    "            # extracting text from 1st 2nd and 4th row\n",
    "            rating = sub_row[0].find('div').text\n",
    "            summary = sub_row[0].find('p').text\n",
    "            summary = summary.strip()\n",
    "            review = sub_row[1].find_all('div')[2].text\n",
    "            review = review.strip()\n",
    "            location=\"\"\n",
    "            location_row = sub_row[3].find('p',attrs={'class':'_2mcZGG'})\n",
    "            if location_row:\n",
    "                location_row = location_row.find_all('span')\n",
    "                if len(location_row)>=2:\n",
    "                    location = location_row[1].text\n",
    "                    location = \"\".join(location.split(\",\")[1:]).strip()\n",
    "            date = sub_row[3].find_all('p',attrs={'class':'_2sc7ZR'})[1].text\n",
    "\n",
    "            sub_row_2 = row.find_all('div',attrs={'class':'_1e9_Zu'})[0].find_all('span',attrs={'class':'_3c3Px5'})\n",
    "\n",
    "            upvotes = sub_row_2[0].text\n",
    "            downvotes = sub_row_2[1].text\n",
    "\n",
    "            # appending to data\n",
    "            dataset.append({'product_id':pid, 'product_title':product_titles[idx], 'rating': rating, 'summary': summary, 'review': review, 'location' : location, 'date' : date, 'upvotes' : upvotes, 'downvotes' : downvotes})"
   ]
  },
  {
   "cell_type": "code",
   "execution_count": 10,
   "id": "4d59d3f6",
   "metadata": {},
   "outputs": [
    {
     "data": {
      "text/html": [
       "<div>\n",
       "<style scoped>\n",
       "    .dataframe tbody tr th:only-of-type {\n",
       "        vertical-align: middle;\n",
       "    }\n",
       "\n",
       "    .dataframe tbody tr th {\n",
       "        vertical-align: top;\n",
       "    }\n",
       "\n",
       "    .dataframe thead th {\n",
       "        text-align: right;\n",
       "    }\n",
       "</style>\n",
       "<table border=\"1\" class=\"dataframe\">\n",
       "  <thead>\n",
       "    <tr style=\"text-align: right;\">\n",
       "      <th></th>\n",
       "      <th>product_id</th>\n",
       "      <th>product_title</th>\n",
       "      <th>rating</th>\n",
       "      <th>summary</th>\n",
       "      <th>review</th>\n",
       "      <th>location</th>\n",
       "      <th>date</th>\n",
       "      <th>upvotes</th>\n",
       "      <th>downvotes</th>\n",
       "    </tr>\n",
       "  </thead>\n",
       "  <tbody>\n",
       "    <tr>\n",
       "      <th>0</th>\n",
       "      <td>ACCGC4GN5SQR7ZCZ</td>\n",
       "      <td>OnePlus Bullets Wireless Z2 with Fast Charge, 30 Hrs Battery Life, Earphones with mic Bluetooth Headset</td>\n",
       "      <td>5</td>\n",
       "      <td>Simply awesome</td>\n",
       "      <td>Writing this review after using this product for two weeks , so u can find ur neck band ,Prose :-* A loude and clear music* Amazing Bass quality , 12.4mm driv just blows up mind  clear Instrument sounds* Good batry back up * Nice build quality, and hand free usage design of buds is good fits in ear , * Clear voice calls Cons ;- * Heavy bass sometimes suppress vocals * Absence of Quick switch option ☹️* BLUTOOTH V5.OOver All Like me other bass or loud music lovers , Don't think jus...</td>\n",
       "      <td>Dharwad</td>\n",
       "      <td>5 months ago</td>\n",
       "      <td>410</td>\n",
       "      <td>88</td>\n",
       "    </tr>\n",
       "    <tr>\n",
       "      <th>1</th>\n",
       "      <td>ACCGC4GN5SQR7ZCZ</td>\n",
       "      <td>OnePlus Bullets Wireless Z2 with Fast Charge, 30 Hrs Battery Life, Earphones with mic Bluetooth Headset</td>\n",
       "      <td>4</td>\n",
       "      <td>Nice product</td>\n",
       "      <td>👉Sound quality is excellent, Bass is awesome, balanced bass and treble,👉Build quality is good but One Plus Z Bass Edition has better build quality in comparison of this,👉Battery backup is awesome, as per commitment it is actual approximately 28 hours,👉Wire texture looks premium quality, very comfortable,👉Overall value for money neckband wireless earphone in this price segment, don't go with bad reviews, its really awesome..</td>\n",
       "      <td>Varanasi</td>\n",
       "      <td>5 months ago</td>\n",
       "      <td>2397</td>\n",
       "      <td>610</td>\n",
       "    </tr>\n",
       "    <tr>\n",
       "      <th>2</th>\n",
       "      <td>ACCGC4GN5SQR7ZCZ</td>\n",
       "      <td>OnePlus Bullets Wireless Z2 with Fast Charge, 30 Hrs Battery Life, Earphones with mic Bluetooth Headset</td>\n",
       "      <td>5</td>\n",
       "      <td>Simply awesome</td>\n",
       "      <td>Excellent product. Superb bass. Worth for money. Full clear and crisp sound. Battery is very powerful.</td>\n",
       "      <td>Bengaluru</td>\n",
       "      <td>6 months ago</td>\n",
       "      <td>1615</td>\n",
       "      <td>439</td>\n",
       "    </tr>\n",
       "    <tr>\n",
       "      <th>3</th>\n",
       "      <td>ACCGC4GN5SQR7ZCZ</td>\n",
       "      <td>OnePlus Bullets Wireless Z2 with Fast Charge, 30 Hrs Battery Life, Earphones with mic Bluetooth Headset</td>\n",
       "      <td>5</td>\n",
       "      <td>Simply awesome</td>\n",
       "      <td>Superb product actually I won’t prefer wireless headphones but i loved this one ❤️.. base i nice not too much high and vocals are superb just go for it</td>\n",
       "      <td>Bengaluru</td>\n",
       "      <td>6 months ago</td>\n",
       "      <td>748</td>\n",
       "      <td>195</td>\n",
       "    </tr>\n",
       "    <tr>\n",
       "      <th>4</th>\n",
       "      <td>ACCGC4GN5SQR7ZCZ</td>\n",
       "      <td>OnePlus Bullets Wireless Z2 with Fast Charge, 30 Hrs Battery Life, Earphones with mic Bluetooth Headset</td>\n",
       "      <td>5</td>\n",
       "      <td>Mind-blowing purchase</td>\n",
       "      <td>This is worth every penny you spend. I doesn't disappoint in any way. Delivery was 2 days and charged it before using and I have been using it for 10 hours straight and its still 90% charge. I don't know currently how much time it would last, though I won't count till then because I trust the brand and so far battery looks awesome.The sound quality is different from the boat rockerz I was using as it consists more mettalic type of bass and it feels amazing. Its easy to use, by just seperatin...</td>\n",
       "      <td>Ramanagara</td>\n",
       "      <td>6 months ago</td>\n",
       "      <td>681</td>\n",
       "      <td>194</td>\n",
       "    </tr>\n",
       "  </tbody>\n",
       "</table>\n",
       "</div>"
      ],
      "text/plain": [
       "         product_id  \\\n",
       "0  ACCGC4GN5SQR7ZCZ   \n",
       "1  ACCGC4GN5SQR7ZCZ   \n",
       "2  ACCGC4GN5SQR7ZCZ   \n",
       "3  ACCGC4GN5SQR7ZCZ   \n",
       "4  ACCGC4GN5SQR7ZCZ   \n",
       "\n",
       "                                                                                             product_title  \\\n",
       "0  OnePlus Bullets Wireless Z2 with Fast Charge, 30 Hrs Battery Life, Earphones with mic Bluetooth Headset   \n",
       "1  OnePlus Bullets Wireless Z2 with Fast Charge, 30 Hrs Battery Life, Earphones with mic Bluetooth Headset   \n",
       "2  OnePlus Bullets Wireless Z2 with Fast Charge, 30 Hrs Battery Life, Earphones with mic Bluetooth Headset   \n",
       "3  OnePlus Bullets Wireless Z2 with Fast Charge, 30 Hrs Battery Life, Earphones with mic Bluetooth Headset   \n",
       "4  OnePlus Bullets Wireless Z2 with Fast Charge, 30 Hrs Battery Life, Earphones with mic Bluetooth Headset   \n",
       "\n",
       "  rating                summary  \\\n",
       "0  5      Simply awesome          \n",
       "1  4      Nice product            \n",
       "2  5      Simply awesome          \n",
       "3  5      Simply awesome          \n",
       "4  5      Mind-blowing purchase   \n",
       "\n",
       "                                                                                                                                                                                                                                                                                                                                                                                                                                                                                                                review  \\\n",
       "0  Writing this review after using this product for two weeks , so u can find ur neck band ,Prose :-* A loude and clear music* Amazing Bass quality , 12.4mm driv just blows up mind  clear Instrument sounds* Good batry back up * Nice build quality, and hand free usage design of buds is good fits in ear , * Clear voice calls Cons ;- * Heavy bass sometimes suppress vocals * Absence of Quick switch option ☹️* BLUTOOTH V5.OOver All Like me other bass or loud music lovers , Don't think jus...              \n",
       "1  👉Sound quality is excellent, Bass is awesome, balanced bass and treble,👉Build quality is good but One Plus Z Bass Edition has better build quality in comparison of this,👉Battery backup is awesome, as per commitment it is actual approximately 28 hours,👉Wire texture looks premium quality, very comfortable,👉Overall value for money neckband wireless earphone in this price segment, don't go with bad reviews, its really awesome..                                                                           \n",
       "2  Excellent product. Superb bass. Worth for money. Full clear and crisp sound. Battery is very powerful.                                                                                                                                                                                                                                                                                                                                                                                                                \n",
       "3  Superb product actually I won’t prefer wireless headphones but i loved this one ❤️.. base i nice not too much high and vocals are superb just go for it                                                                                                                                                                                                                                                                                                                                                               \n",
       "4  This is worth every penny you spend. I doesn't disappoint in any way. Delivery was 2 days and charged it before using and I have been using it for 10 hours straight and its still 90% charge. I don't know currently how much time it would last, though I won't count till then because I trust the brand and so far battery looks awesome.The sound quality is different from the boat rockerz I was using as it consists more mettalic type of bass and it feels amazing. Its easy to use, by just seperatin...   \n",
       "\n",
       "     location          date upvotes downvotes  \n",
       "0  Dharwad     5 months ago  410     88        \n",
       "1  Varanasi    5 months ago  2397    610       \n",
       "2  Bengaluru   6 months ago  1615    439       \n",
       "3  Bengaluru   6 months ago  748     195       \n",
       "4  Ramanagara  6 months ago  681     194       "
      ]
     },
     "metadata": {},
     "output_type": "display_data"
    },
    {
     "data": {
      "text/html": [
       "<div>\n",
       "<style scoped>\n",
       "    .dataframe tbody tr th:only-of-type {\n",
       "        vertical-align: middle;\n",
       "    }\n",
       "\n",
       "    .dataframe tbody tr th {\n",
       "        vertical-align: top;\n",
       "    }\n",
       "\n",
       "    .dataframe thead th {\n",
       "        text-align: right;\n",
       "    }\n",
       "</style>\n",
       "<table border=\"1\" class=\"dataframe\">\n",
       "  <thead>\n",
       "    <tr style=\"text-align: right;\">\n",
       "      <th></th>\n",
       "      <th>product_id</th>\n",
       "      <th>product_title</th>\n",
       "      <th>rating</th>\n",
       "      <th>summary</th>\n",
       "      <th>review</th>\n",
       "      <th>location</th>\n",
       "      <th>date</th>\n",
       "      <th>upvotes</th>\n",
       "      <th>downvotes</th>\n",
       "    </tr>\n",
       "  </thead>\n",
       "  <tbody>\n",
       "    <tr>\n",
       "      <th>2435</th>\n",
       "      <td>ACCFU3G2HEJYHKSS</td>\n",
       "      <td>DAYNEO TwsL21 Mini Wireless Bluetooth Headset / Earphone Bluetooth Headset</td>\n",
       "      <td>5</td>\n",
       "      <td>Perfect product!</td>\n",
       "      <td>Excellent</td>\n",
       "      <td></td>\n",
       "      <td>6 days ago</td>\n",
       "      <td>0</td>\n",
       "      <td>0</td>\n",
       "    </tr>\n",
       "    <tr>\n",
       "      <th>2436</th>\n",
       "      <td>ACCFU3G2HEJYHKSS</td>\n",
       "      <td>DAYNEO TwsL21 Mini Wireless Bluetooth Headset / Earphone Bluetooth Headset</td>\n",
       "      <td>4</td>\n",
       "      <td>Very Good</td>\n",
       "      <td>Good</td>\n",
       "      <td></td>\n",
       "      <td>6 days ago</td>\n",
       "      <td>0</td>\n",
       "      <td>0</td>\n",
       "    </tr>\n",
       "    <tr>\n",
       "      <th>2437</th>\n",
       "      <td>ACCFU3G2HEJYHKSS</td>\n",
       "      <td>DAYNEO TwsL21 Mini Wireless Bluetooth Headset / Earphone Bluetooth Headset</td>\n",
       "      <td>5</td>\n",
       "      <td>Wonderful</td>\n",
       "      <td>Excellent product and it's performance is very nice...i loved it very much</td>\n",
       "      <td></td>\n",
       "      <td>6 days ago</td>\n",
       "      <td>0</td>\n",
       "      <td>0</td>\n",
       "    </tr>\n",
       "    <tr>\n",
       "      <th>2438</th>\n",
       "      <td>ACCFU3G2HEJYHKSS</td>\n",
       "      <td>DAYNEO TwsL21 Mini Wireless Bluetooth Headset / Earphone Bluetooth Headset</td>\n",
       "      <td>4</td>\n",
       "      <td>Nice product</td>\n",
       "      <td>Nice product...</td>\n",
       "      <td>Sibsagar</td>\n",
       "      <td>6 days ago</td>\n",
       "      <td>0</td>\n",
       "      <td>0</td>\n",
       "    </tr>\n",
       "    <tr>\n",
       "      <th>2439</th>\n",
       "      <td>ACCGH4KENHHGJAZJ</td>\n",
       "      <td>BHAVISHU Bluetooth Earphone with Mic HEADPHONE Bluetooth Headset (White, In the Ear)7 Bluetooth Headset</td>\n",
       "      <td>5</td>\n",
       "      <td>Awesome</td>\n",
       "      <td>Product is i7s value for money</td>\n",
       "      <td></td>\n",
       "      <td>9 days ago</td>\n",
       "      <td>4</td>\n",
       "      <td>1</td>\n",
       "    </tr>\n",
       "  </tbody>\n",
       "</table>\n",
       "</div>"
      ],
      "text/plain": [
       "            product_id  \\\n",
       "2435  ACCFU3G2HEJYHKSS   \n",
       "2436  ACCFU3G2HEJYHKSS   \n",
       "2437  ACCFU3G2HEJYHKSS   \n",
       "2438  ACCFU3G2HEJYHKSS   \n",
       "2439  ACCGH4KENHHGJAZJ   \n",
       "\n",
       "                                                                                                product_title  \\\n",
       "2435  DAYNEO TwsL21 Mini Wireless Bluetooth Headset / Earphone Bluetooth Headset                                \n",
       "2436  DAYNEO TwsL21 Mini Wireless Bluetooth Headset / Earphone Bluetooth Headset                                \n",
       "2437  DAYNEO TwsL21 Mini Wireless Bluetooth Headset / Earphone Bluetooth Headset                                \n",
       "2438  DAYNEO TwsL21 Mini Wireless Bluetooth Headset / Earphone Bluetooth Headset                                \n",
       "2439  BHAVISHU Bluetooth Earphone with Mic HEADPHONE Bluetooth Headset (White, In the Ear)7 Bluetooth Headset   \n",
       "\n",
       "     rating           summary  \\\n",
       "2435  5      Perfect product!   \n",
       "2436  4      Very Good          \n",
       "2437  5      Wonderful          \n",
       "2438  4      Nice product       \n",
       "2439  5      Awesome            \n",
       "\n",
       "                                                                          review  \\\n",
       "2435  Excellent                                                                    \n",
       "2436  Good                                                                         \n",
       "2437  Excellent product and it's performance is very nice...i loved it very much   \n",
       "2438  Nice product...                                                              \n",
       "2439  Product is i7s value for money                                               \n",
       "\n",
       "      location        date upvotes downvotes  \n",
       "2435            6 days ago  0       0         \n",
       "2436            6 days ago  0       0         \n",
       "2437            6 days ago  0       0         \n",
       "2438  Sibsagar  6 days ago  0       0         \n",
       "2439            9 days ago  4       1         "
      ]
     },
     "metadata": {},
     "output_type": "display_data"
    }
   ],
   "source": [
    "## View Sample set of reviews that we collected\n",
    "df = pd.DataFrame(dataset)\n",
    "\n",
    "with pd.option_context('display.max_colwidth', -1):\n",
    "    display(df.head(5))\n",
    "    display(df.tail(5))"
   ]
  },
  {
   "cell_type": "code",
   "execution_count": 11,
   "id": "d1a529e4",
   "metadata": {},
   "outputs": [
    {
     "name": "stdout",
     "output_type": "stream",
     "text": [
      "Count of reviews:2440\n"
     ]
    }
   ],
   "source": [
    "count_reviews = df.shape[0]\n",
    "print(f\"Count of reviews:{count_reviews}\")"
   ]
  },
  {
   "cell_type": "code",
   "execution_count": 12,
   "id": "06113ec1",
   "metadata": {},
   "outputs": [],
   "source": [
    "df.to_csv(\"./flipkart_reviews_dataset.csv\", index=False)"
   ]
  }
 ],
 "metadata": {
  "kernelspec": {
   "display_name": "Python 3 (ipykernel)",
   "language": "python",
   "name": "python3"
  },
  "language_info": {
   "codemirror_mode": {
    "name": "ipython",
    "version": 3
   },
   "file_extension": ".py",
   "mimetype": "text/x-python",
   "name": "python",
   "nbconvert_exporter": "python",
   "pygments_lexer": "ipython3",
   "version": "3.9.12"
  }
 },
 "nbformat": 4,
 "nbformat_minor": 5
}
